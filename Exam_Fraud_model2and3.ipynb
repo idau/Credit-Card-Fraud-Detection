{
 "cells": [
  {
   "cell_type": "markdown",
   "metadata": {},
   "source": [
    "# Model 2: with undersampling and feature selection"
   ]
  },
  {
   "cell_type": "code",
   "execution_count": 5,
   "metadata": {},
   "outputs": [],
   "source": [
    "# import libraries\n",
    "import pandas as pd\n",
    "import numpy as np \n",
    "import random\n",
    "import matplotlib.pyplot as plt\n",
    "import seaborn as sns\n",
    "import statsmodels.api as sm\n",
    "from sklearn.preprocessing import StandardScaler\n",
    "from sklearn.linear_model import LogisticRegression\n",
    "from sklearn.cross_validation import train_test_split\n",
    "from sklearn import metrics\n",
    "from sklearn.metrics import confusion_matrix, classification_report"
   ]
  },
  {
   "cell_type": "code",
   "execution_count": 2,
   "metadata": {},
   "outputs": [],
   "source": [
    "#import data \n",
    "dfall = pd.read_csv('CreditCardFraud_AllData.csv')\n",
    "df3 = pd.read_csv('CreditCardFraud_3.csv')"
   ]
  },
  {
   "cell_type": "code",
   "execution_count": 3,
   "metadata": {},
   "outputs": [
    {
     "name": "stderr",
     "output_type": "stream",
     "text": [
      "C:\\Anaconda3\\lib\\site-packages\\sklearn\\utils\\validation.py:475: DataConversionWarning: Data with input dtype int64 was converted to float64 by StandardScaler.\n",
      "  warnings.warn(msg, DataConversionWarning)\n",
      "C:\\Anaconda3\\lib\\site-packages\\sklearn\\utils\\validation.py:475: DataConversionWarning: Data with input dtype int64 was converted to float64 by StandardScaler.\n",
      "  warnings.warn(msg, DataConversionWarning)\n"
     ]
    }
   ],
   "source": [
    "# Need to transform the data in the columns Time and Amount to go with the rest\n",
    "std_scaler = StandardScaler()\n",
    "\n",
    "dfall['scaled_amount'] = std_scaler.fit_transform(dfall['Amount'].values.reshape(-1,1))\n",
    "dfall['scaled_time'] = std_scaler.fit_transform(dfall['Time'].values.reshape(-1,1))\n",
    "dfall.drop(['Time','Amount'], axis=1, inplace=True)\n",
    "\n",
    "df3['scaled_amount'] = std_scaler.fit_transform(df3['Amount'].values.reshape(-1,1))\n",
    "df3['scaled_time'] = std_scaler.fit_transform(df3['Time'].values.reshape(-1,1))\n",
    "df3.drop(['Time','Amount'], axis=1, inplace=True)"
   ]
  },
  {
   "cell_type": "code",
   "execution_count": 6,
   "metadata": {},
   "outputs": [
    {
     "name": "stdout",
     "output_type": "stream",
     "text": [
      "Proportion of non-fraud transactions:  0.5\n",
      "Proportion of fraud transactions:  0.5\n",
      "Total number of transactions in undersampled data:  984\n"
     ]
    }
   ],
   "source": [
    "random.seed(20)\n",
    "\n",
    "#Create an undersampled version of the dataset to use to build the model\n",
    "X_all = df3.iloc[:, df3.columns != 'Is.Fraud']\n",
    "y_all = df3.iloc[:, df3.columns == 'Is.Fraud']\n",
    "\n",
    "# Count number of data points in the minority class\n",
    "fraud_count = len(df3[df3['Is.Fraud'] == 1])\n",
    "\n",
    "# Create separate arrays for the different cases (fraud / not fraud)\n",
    "fraud_trans = np.array(df3[df3['Is.Fraud'] == 1].index)\n",
    "normal_trans = df3[df3['Is.Fraud'] == 0].index\n",
    "\n",
    "# Out of the normal transactions, select \"fraud_count\" number of transactions randomly\n",
    "random_normal_trans = np.random.choice(normal_trans, fraud_count, replace = False)\n",
    "random_normal_trans = np.array(random_normal_trans)\n",
    "\n",
    "# Combining the normal and fraud transaction\n",
    "under_sample_trans = np.concatenate([fraud_trans,random_normal_trans])\n",
    "\n",
    "# Create the undersampled dataset\n",
    "under_sample_data = df3.iloc[under_sample_trans,:]\n",
    "\n",
    "X_undersample = under_sample_data.iloc[:, under_sample_data.columns != 'Is.Fraud']\n",
    "y_undersample = under_sample_data.iloc[:, under_sample_data.columns == 'Is.Fraud']\n",
    "\n",
    "# Print result\n",
    "print(\"Proportion of non-fraud transactions: \", len(under_sample_data[under_sample_data['Is.Fraud'] == 0])/len(under_sample_data))\n",
    "print(\"Proportion of fraud transactions: \", len(under_sample_data[under_sample_data['Is.Fraud'] == 1])/len(under_sample_data))\n",
    "print(\"Total number of transactions in undersampled data: \", len(under_sample_data))"
   ]
  },
  {
   "cell_type": "code",
   "execution_count": 7,
   "metadata": {},
   "outputs": [
    {
     "name": "stdout",
     "output_type": "stream",
     "text": [
      "      Is.Fraud        V1        V2        V3        V4        V5        V6  \\\n",
      "3727     False -0.175798  0.158391  0.879935 -0.914384  0.187858 -0.083381   \n",
      "2765     False  2.052474 -1.040446  0.378339 -0.187582 -1.693043 -0.246380   \n",
      "4797      True  1.954852  1.630056 -4.337200  2.378367  2.113348 -1.583851   \n",
      "4866      True -5.961457  5.313382 -6.674320  6.028975 -1.387560  0.670638   \n",
      "3823     False -0.125908  0.510725 -1.014394 -0.580112  2.966624  3.949108   \n",
      "\n",
      "            V7        V8        V9     ...            V21       V22       V23  \\\n",
      "3727  0.284882  0.083052  0.748820     ...       0.342443  1.063350  0.055491   \n",
      "2765 -1.470745  0.070844  0.679577     ...      -0.117307  0.368662  0.268465   \n",
      "4797  0.653745 -0.192892  1.217608     ...      -0.474437 -0.974625 -0.048155   \n",
      "4866 -4.128987 -4.765894 -1.005259     ...       5.556642 -1.501808  1.355172   \n",
      "3823  0.094789  1.036705  0.308453     ...      -0.299125 -0.590162 -0.018374   \n",
      "\n",
      "           V24       V25       V26       V27       V28  scaled_amount  \\\n",
      "3727  0.618365 -0.902460 -0.069904  0.232448  0.254601      -0.201752   \n",
      "2765 -0.048594 -0.453434 -0.267402  0.101015 -0.017226      -0.356195   \n",
      "4797 -0.023524  0.362192 -0.570709  0.025619  0.081880      -0.402686   \n",
      "4866  0.141093  0.077913  0.473988  0.287129  1.468653       0.084956   \n",
      "3823  0.603990 -0.452610 -0.383318  0.257506  0.215590      -0.352987   \n",
      "\n",
      "      scaled_time  \n",
      "3727     1.156953  \n",
      "2765     0.590299  \n",
      "4797    -0.047827  \n",
      "4866     0.521250  \n",
      "3823     1.210788  \n",
      "\n",
      "[5 rows x 31 columns]\n"
     ]
    }
   ],
   "source": [
    "from sklearn.utils import shuffle\n",
    "\n",
    "#shuffle data\n",
    "under_sample_data = shuffle(under_sample_data)\n",
    "print(under_sample_data.head())"
   ]
  },
  {
   "cell_type": "code",
   "execution_count": 8,
   "metadata": {},
   "outputs": [
    {
     "name": "stdout",
     "output_type": "stream",
     "text": [
      "True     492\n",
      "False    492\n",
      "Name: Is.Fraud, dtype: int64\n"
     ]
    },
    {
     "data": {
      "text/plain": [
       "<matplotlib.axes._subplots.AxesSubplot at 0xba6a128>"
      ]
     },
     "execution_count": 8,
     "metadata": {},
     "output_type": "execute_result"
    },
    {
     "data": {
      "image/png": "[encoded data removed]",
      "text/plain": [
       "<Figure size 432x288 with 1 Axes>"
      ]
     },
     "metadata": {},
     "output_type": "display_data"
    }
   ],
   "source": [
    "#count how many are of each class in the undersampled dataframe: Fraud or not fraud\n",
    "fraud_class = under_sample_data['Is.Fraud'].value_counts()\n",
    "print(fraud_class)\n",
    "sns.countplot(x='Is.Fraud',data=under_sample_data, palette='hls')"
   ]
  },
  {
   "cell_type": "code",
   "execution_count": 9,
   "metadata": {},
   "outputs": [
    {
     "data": {
      "text/plain": [
       "<matplotlib.axes._subplots.AxesSubplot at 0xbc1f160>"
      ]
     },
     "execution_count": 9,
     "metadata": {},
     "output_type": "execute_result"
    },
    {
     "data": {
      "image/png": "[encoded data removed]",
      "text/plain": [
       "<Figure size 576x576 with 2 Axes>"
      ]
     },
     "metadata": {},
     "output_type": "display_data"
    }
   ],
   "source": [
    "correlation = under_sample_data.corr()\n",
    "f , ax = plt.subplots(figsize = (8,8)) \n",
    "plt.title('Correlation Heatmap',y=1,size=16) \n",
    "sns.heatmap(correlation, square = True, vmax=0.6)"
   ]
  },
  {
   "cell_type": "code",
   "execution_count": 10,
   "metadata": {},
   "outputs": [
    {
     "name": "stdout",
     "output_type": "stream",
     "text": [
      "There is 9 values which are notably correlated with Is.Fraud:\n",
      "V4     0.719076\n",
      "V11    0.686346\n",
      "V17   -0.560902\n",
      "V3    -0.561829\n",
      "V9    -0.563798\n",
      "V16   -0.592647\n",
      "V10   -0.626877\n",
      "V12   -0.682708\n",
      "V14   -0.746828\n",
      "Name: Is.Fraud, dtype: float64\n"
     ]
    }
   ],
   "source": [
    "#want to find the features which have the strongest correlation with fraud\n",
    "correlation = under_sample_data.corr()['Is.Fraud'][1:]\n",
    "\n",
    "#Make a list of the features which have a correlation with absolute value larger than 0.5 to list out\n",
    "features_list = correlation[abs(correlation) > 0.5].sort_values(ascending=False)\n",
    "print(\"There is {} values which are notably correlated with Is.Fraud:\\n{}\".format(len(features_list), features_list))"
   ]
  },
  {
   "cell_type": "code",
   "execution_count": 11,
   "metadata": {},
   "outputs": [
    {
     "name": "stdout",
     "output_type": "stream",
     "text": [
      "Optimization terminated successfully.\n",
      "         Current function value: 0.390123\n",
      "         Iterations 11\n",
      "                           Logit Regression Results                           \n",
      "==============================================================================\n",
      "Dep. Variable:               Is.Fraud   No. Observations:                  984\n",
      "Model:                          Logit   Df Residuals:                      975\n",
      "Method:                           MLE   Df Model:                            8\n",
      "Date:                Mon, 14 Jan 2019   Pseudo R-squ.:                  0.4372\n",
      "Time:                        15:24:13   Log-Likelihood:                -383.88\n",
      "converged:                       True   LL-Null:                       -682.06\n",
      "                                        LLR p-value:                1.425e-123\n",
      "==============================================================================\n",
      "                 coef    std err          z      P>|z|      [0.025      0.975]\n",
      "------------------------------------------------------------------------------\n",
      "V3            -0.0454      0.062     -0.729      0.466      -0.167       0.077\n",
      "V4             0.3141      0.064      4.945      0.000       0.190       0.439\n",
      "V9            -0.0808      0.091     -0.890      0.373      -0.259       0.097\n",
      "V10           -0.1463      0.093     -1.573      0.116      -0.328       0.036\n",
      "V11            0.1628      0.088      1.853      0.064      -0.009       0.335\n",
      "V12           -0.2742      0.091     -3.015      0.003      -0.452      -0.096\n",
      "V14           -0.3072      0.082     -3.735      0.000      -0.468      -0.146\n",
      "V16           -0.0772      0.098     -0.788      0.430      -0.269       0.115\n",
      "V17           -0.1734      0.100     -1.741      0.082      -0.369       0.022\n",
      "==============================================================================\n",
      "\n",
      "Possibly complete quasi-separation: A fraction 0.20 of observations can be\n",
      "perfectly predicted. This might indicate that there is complete\n",
      "quasi-separation. In this case some parameters will not be identified.\n"
     ]
    }
   ],
   "source": [
    "# Choose the columns we want to use to predict fraud with using correlation\n",
    "names = ['Is.Fraud','V3', 'V4','V9', 'V10','V11', 'V12', 'V14','V16','V17']\n",
    "train_cols = names[1:]\n",
    "\n",
    "# Use the logit function as we are doing logistic regression\n",
    "logit = sm.Logit(under_sample_data['Is.Fraud'], under_sample_data[train_cols]) # We fit the model\n",
    "result = logit.fit()\n",
    "print(result.summary())"
   ]
  },
  {
   "cell_type": "code",
   "execution_count": 12,
   "metadata": {},
   "outputs": [
    {
     "name": "stdout",
     "output_type": "stream",
     "text": [
      "Transactions train dataset:  3500\n",
      "Transactions test dataset:  1500\n",
      "Total transactions:  5000\n",
      "Transactions train dataset:  688\n",
      "Transactions test dataset:  296\n",
      "Total transactions:  984\n"
     ]
    }
   ],
   "source": [
    "X3 = df3.iloc[:, df3.columns != 'Is.Fraud']\n",
    "y3 = df3.iloc[:, df3.columns == 'Is.Fraud']\n",
    "\n",
    "# Split subset 3 into test and train sets\n",
    "X3_train, X3_test, y3_train, y3_test = train_test_split(df3[train_cols],df3['Is.Fraud'],test_size = 0.3, random_state = 0)\n",
    "\n",
    "print(\"Transactions train dataset: \", len(X3_train))\n",
    "print(\"Transactions test dataset: \", len(X3_test))\n",
    "print(\"Total transactions: \", len(X3_train)+len(X3_test))\n",
    "\n",
    "\n",
    "# Split undersampled dataset into test and train sets\n",
    "X_train, X_test, y_train, y_test = train_test_split(under_sample_data[train_cols],under_sample_data['Is.Fraud'],test_size = 0.3, random_state = 0)\n",
    "\n",
    "print(\"Transactions train dataset: \", len(X_train))\n",
    "print(\"Transactions test dataset: \", len(X_test))\n",
    "print(\"Total transactions: \", len(X_train)+len(X_test))"
   ]
  },
  {
   "cell_type": "code",
   "execution_count": 116,
   "metadata": {},
   "outputs": [
    {
     "name": "stdout",
     "output_type": "stream",
     "text": [
      "         V3        V4        V9       V10       V11       V12       V14  \\\n",
      "0  0.924591 -0.727219 -0.665271 -0.737980  0.324098  0.277192 -0.291896   \n",
      "1  1.146088  0.656290 -0.523849  0.690440  1.160793  0.831569 -0.018098   \n",
      "2 -0.268073  0.125245 -0.230000  0.295110 -0.596572 -0.118181  0.063381   \n",
      "3  1.230334  2.554474  0.307571  0.475235 -1.410625 -0.508594 -0.199105   \n",
      "4  2.528964  0.648279  0.435493 -0.308060 -0.678178 -0.219642 -0.383811   \n",
      "\n",
      "        V16       V17  \n",
      "0  1.143174 -0.928709  \n",
      "1 -0.180816 -0.749369  \n",
      "2 -0.608157 -0.159370  \n",
      "3  0.541796 -0.274024  \n",
      "4 -0.471960  0.419925  \n",
      "             V3        V4        V9        V10       V11        V12  \\\n",
      "4950  -5.799736  6.502330 -1.977238  -3.473411  4.569194  -9.321153   \n",
      "667    0.152203  0.610806  0.073360  -0.279397 -0.406080   0.058996   \n",
      "891    0.944741  0.169046 -0.775537  -1.125841  0.043177   0.617806   \n",
      "2603  -0.141146 -1.035277 -0.967204  -0.220305  0.528163   0.318813   \n",
      "4635 -13.770001  8.694897 -8.090697 -12.780634  5.330601 -11.898065   \n",
      "\n",
      "            V14        V16        V17  \n",
      "4950 -14.266836  -4.066209  -6.626968  \n",
      "667   -0.287407   0.588567  -0.129794  \n",
      "891   -0.154902   0.246131   0.364112  \n",
      "2603   0.581159  -0.127368  -0.920113  \n",
      "4635  -9.560169 -11.380996 -21.536802  \n"
     ]
    }
   ],
   "source": [
    "print(df3[train_cols].head())\n",
    "print(under_sample_data[train_cols].head())"
   ]
  },
  {
   "cell_type": "code",
   "execution_count": 13,
   "metadata": {},
   "outputs": [
    {
     "name": "stdout",
     "output_type": "stream",
     "text": [
      "Accuracy of logistic regression classifier on test set: 0.94\n"
     ]
    }
   ],
   "source": [
    "#we fit and predict a model on the undersampled data first\n",
    "logreg = LogisticRegression()\n",
    "logreg.fit(X_train, y_train)\n",
    "y_pred = logreg.predict(X_test)\n",
    "print('Accuracy of logistic regression classifier on test set: {:.2f}'.format(logreg.score(X_test, y_test)))"
   ]
  },
  {
   "cell_type": "code",
   "execution_count": 14,
   "metadata": {},
   "outputs": [
    {
     "name": "stdout",
     "output_type": "stream",
     "text": [
      "[[141   7]\n",
      " [ 11 137]]\n"
     ]
    }
   ],
   "source": [
    "from sklearn.metrics import confusion_matrix\n",
    "#Look at confusion matrix\n",
    "confusionmatrix = confusion_matrix(y_test, y_pred)\n",
    "print(confusionmatrix)"
   ]
  },
  {
   "cell_type": "code",
   "execution_count": 15,
   "metadata": {},
   "outputs": [
    {
     "data": {
      "text/plain": [
       "Text(0.5,257.44,'Predicted label')"
      ]
     },
     "execution_count": 15,
     "metadata": {},
     "output_type": "execute_result"
    },
    {
     "data": {
      "image/png": "[encoded data removed]",
      "text/plain": [
       "<Figure size 432x288 with 2 Axes>"
      ]
     },
     "metadata": {},
     "output_type": "display_data"
    }
   ],
   "source": [
    "#Make presentable confusion matrix\n",
    "classes=['False','True'] \n",
    "fig, ax = plt.subplots()\n",
    "tick_marks = np.arange(len(classes))\n",
    "plt.xticks(tick_marks, classes)\n",
    "plt.yticks(tick_marks, classes)\n",
    "sns.heatmap(pd.DataFrame(confusionmatrix), annot=True ,fmt='g')\n",
    "ax.xaxis.set_label_position(\"top\")\n",
    "plt.tight_layout()\n",
    "plt.title('Confusion matrix', y=1.1)\n",
    "plt.ylabel('Actual label')\n",
    "plt.xlabel('Predicted label')"
   ]
  },
  {
   "cell_type": "code",
   "execution_count": 16,
   "metadata": {},
   "outputs": [
    {
     "name": "stdout",
     "output_type": "stream",
     "text": [
      "             precision    recall  f1-score   support\n",
      "\n",
      "      False       0.93      0.95      0.94       148\n",
      "       True       0.95      0.93      0.94       148\n",
      "\n",
      "avg / total       0.94      0.94      0.94       296\n",
      "\n"
     ]
    }
   ],
   "source": [
    "print(classification_report(y_test, y_pred))"
   ]
  },
  {
   "cell_type": "code",
   "execution_count": 17,
   "metadata": {},
   "outputs": [
    {
     "name": "stdout",
     "output_type": "stream",
     "text": [
      "Accuracy of logistic regression classifier on test set: 0.95\n"
     ]
    }
   ],
   "source": [
    "#try to predicting using the data from d3\n",
    "y3_pred = logreg.predict(X3_test)\n",
    "print('Accuracy of logistic regression classifier on test set: {:.2f}'.format(logreg.score(X3_test, y3_test)))"
   ]
  },
  {
   "cell_type": "code",
   "execution_count": 18,
   "metadata": {},
   "outputs": [
    {
     "name": "stdout",
     "output_type": "stream",
     "text": [
      "[[1297   54]\n",
      " [  15  134]]\n",
      "             precision    recall  f1-score   support\n",
      "\n",
      "      False       0.99      0.96      0.97      1351\n",
      "       True       0.71      0.90      0.80       149\n",
      "\n",
      "avg / total       0.96      0.95      0.96      1500\n",
      "\n"
     ]
    }
   ],
   "source": [
    "from sklearn.metrics import confusion_matrix\n",
    "#Look at confusion matrix\n",
    "confusionmatrix = confusion_matrix(y3_test, y3_pred)\n",
    "print(confusionmatrix)\n",
    "print(classification_report(y3_test, y3_pred))"
   ]
  },
  {
   "cell_type": "code",
   "execution_count": 19,
   "metadata": {},
   "outputs": [
    {
     "data": {
      "text/plain": [
       "Text(0.5,257.44,'Predicted label')"
      ]
     },
     "execution_count": 19,
     "metadata": {},
     "output_type": "execute_result"
    },
    {
     "data": {
      "image/png": "[encoded data removed]",
      "text/plain": [
       "<Figure size 432x288 with 2 Axes>"
      ]
     },
     "metadata": {},
     "output_type": "display_data"
    }
   ],
   "source": [
    "#Make presentable confusion matrix\n",
    "classes=['False','True'] \n",
    "fig, ax = plt.subplots()\n",
    "tick_marks = np.arange(len(classes))\n",
    "plt.xticks(tick_marks, classes)\n",
    "plt.yticks(tick_marks, classes)\n",
    "sns.heatmap(pd.DataFrame(confusionmatrix), annot=True ,fmt='g')\n",
    "ax.xaxis.set_label_position(\"top\")\n",
    "plt.tight_layout()\n",
    "plt.title('Confusion matrix', y=1.1)\n",
    "plt.ylabel('Actual label')\n",
    "plt.xlabel('Predicted label')"
   ]
  },
  {
   "cell_type": "markdown",
   "metadata": {},
   "source": [
    "# Model 3: Feature selection methods"
   ]
  },
  {
   "cell_type": "code",
   "execution_count": 20,
   "metadata": {},
   "outputs": [],
   "source": [
    "from sklearn.feature_selection import RFE\n",
    "from sklearn.linear_model import LinearRegression, Lasso, RandomizedLasso\n",
    "from sklearn.model_selection import StratifiedKFold\n",
    "from sklearn.feature_selection import RFECV\n",
    "\n",
    "feature_names = list(X_undersample.columns.values)"
   ]
  },
  {
   "cell_type": "code",
   "execution_count": 134,
   "metadata": {},
   "outputs": [
    {
     "name": "stdout",
     "output_type": "stream",
     "text": [
      "[False False False  True False False False  True False  True False  True\n",
      "  True  True False  True  True False False False False False False False\n",
      " False False False  True False False]\n",
      "[11 15 19  1  4 12 22  1  8  1  2  1  1  1 14  1  1 17 20  7 21  3 16 18\n",
      "  9  6 13  1  5 10]\n",
      "Selected features: ['V4', 'V8', 'V10', 'V12', 'V13', 'V14', 'V16', 'V17', 'V28']\n"
     ]
    }
   ],
   "source": [
    "logreg = LogisticRegression()\n",
    "\n",
    "#specify that we want 9 features to compare with our own selection above\n",
    "rfe = RFE(logreg, 9)\n",
    "rfe = rfe.fit(X_undersample, y_undersample.values.ravel())\n",
    "print(rfe.support_)\n",
    "print(rfe.ranking_)\n",
    "print('Selected features: %s' % list(X_undersample.columns[rfe.support_]))"
   ]
  },
  {
   "cell_type": "code",
   "execution_count": 21,
   "metadata": {},
   "outputs": [
    {
     "name": "stderr",
     "output_type": "stream",
     "text": [
      "C:\\Anaconda3\\lib\\site-packages\\sklearn\\utils\\validation.py:578: DataConversionWarning: A column-vector y was passed when a 1d array was expected. Please change the shape of y to (n_samples, ), for example using ravel().\n",
      "  y = column_or_1d(y, warn=True)\n"
     ]
    },
    {
     "data": {
      "image/png": "[encoded data removed]",
      "text/plain": [
       "<Figure size 432x288 with 1 Axes>"
      ]
     },
     "metadata": {},
     "output_type": "display_data"
    }
   ],
   "source": [
    "logreg_model = LogisticRegression()\n",
    "strat_k_fold = StratifiedKFold(n_splits=10,random_state=42)\n",
    "rfecv = RFECV(estimator=logreg_model, step=1, cv=strat_k_fold, scoring='accuracy')\n",
    "rfecv.fit(X_undersample, y_undersample)\n",
    "\n",
    "plt.figure()\n",
    "plt.title('Logistic Regression CV score vs No of Features')\n",
    "plt.xlabel(\"Number of features selected\")\n",
    "plt.ylabel(\"Cross validation score (nb of correct classifications)\")\n",
    "plt.plot(range(1, len(rfecv.grid_scores_) + 1), rfecv.grid_scores_)\n",
    "plt.show()"
   ]
  },
  {
   "cell_type": "code",
   "execution_count": 22,
   "metadata": {},
   "outputs": [
    {
     "name": "stdout",
     "output_type": "stream",
     "text": [
      "[False False False  True False False False  True False False False  True\n",
      " False  True False False False False False False  True False False False\n",
      " False False  True  True  True False]\n",
      "Selected features: ['V4', 'V8', 'V12', 'V14', 'V21', 'V27', 'V28', 'scaled_amount']\n"
     ]
    }
   ],
   "source": [
    "print(rfecv.support_)\n",
    "print('Selected features: %s' % list(X_undersample.columns[rfecv.support_]))"
   ]
  },
  {
   "cell_type": "code",
   "execution_count": 23,
   "metadata": {},
   "outputs": [
    {
     "name": "stdout",
     "output_type": "stream",
     "text": [
      "Optimization terminated successfully.\n",
      "         Current function value: 0.387426\n",
      "         Iterations 10\n",
      "                           Logit Regression Results                           \n",
      "==============================================================================\n",
      "Dep. Variable:               Is.Fraud   No. Observations:                  984\n",
      "Model:                          Logit   Df Residuals:                      975\n",
      "Method:                           MLE   Df Model:                            8\n",
      "Date:                Mon, 14 Jan 2019   Pseudo R-squ.:                  0.4411\n",
      "Time:                        15:25:24   Log-Likelihood:                -381.23\n",
      "converged:                       True   LL-Null:                       -682.06\n",
      "                                        LLR p-value:                1.029e-124\n",
      "==============================================================================\n",
      "                 coef    std err          z      P>|z|      [0.025      0.975]\n",
      "------------------------------------------------------------------------------\n",
      "V4             0.3118      0.064      4.893      0.000       0.187       0.437\n",
      "V8            -0.1695      0.083     -2.043      0.041      -0.332      -0.007\n",
      "V10           -0.1231      0.092     -1.341      0.180      -0.303       0.057\n",
      "V12           -0.2812      0.087     -3.217      0.001      -0.452      -0.110\n",
      "V13            0.1062      0.086      1.237      0.216      -0.062       0.274\n",
      "V14           -0.3298      0.078     -4.205      0.000      -0.483      -0.176\n",
      "V16           -0.0455      0.095     -0.480      0.631      -0.231       0.140\n",
      "V17           -0.1721      0.085     -2.014      0.044      -0.340      -0.005\n",
      "V28            0.7415      0.382      1.939      0.053      -0.008       1.491\n",
      "==============================================================================\n",
      "\n",
      "Possibly complete quasi-separation: A fraction 0.16 of observations can be\n",
      "perfectly predicted. This might indicate that there is complete\n",
      "quasi-separation. In this case some parameters will not be identified.\n"
     ]
    }
   ],
   "source": [
    "names = ['Is.Fraud','V4', 'V8', 'V10', 'V12', 'V13', 'V14', 'V16', 'V17', 'V28']\n",
    "train_cols3 = names[1:]\n",
    "\n",
    "#We use the logit function as we are doing logistic regression\n",
    "logit = sm.Logit(under_sample_data['Is.Fraud'], under_sample_data[train_cols3]) # We fit the model\n",
    "result = logit.fit()\n",
    "print(result.summary())"
   ]
  },
  {
   "cell_type": "code",
   "execution_count": 24,
   "metadata": {},
   "outputs": [
    {
     "name": "stdout",
     "output_type": "stream",
     "text": [
      "Transactions train dataset:  3500\n",
      "Transactions test dataset:  1500\n",
      "Total transactions:  5000\n",
      "Transactions train dataset:  688\n",
      "Transactions test dataset:  296\n",
      "Total transactions:  984\n"
     ]
    }
   ],
   "source": [
    "# Split subset 3 into test and train sets\n",
    "X3_train, X3_test, y3_train, y3_test = train_test_split(df3[train_cols3],df3['Is.Fraud'],test_size = 0.3, random_state = 0)\n",
    "\n",
    "print(\"Transactions train dataset: \", len(X3_train))\n",
    "print(\"Transactions test dataset: \", len(X3_test))\n",
    "print(\"Total transactions: \", len(X3_train)+len(X3_test))\n",
    "\n",
    "\n",
    "# Split undersampled dataset into test and train sets\n",
    "X_train, X_test, y_train, y_test = train_test_split(under_sample_data[train_cols3],under_sample_data['Is.Fraud'],test_size = 0.3, random_state = 0)\n",
    "\n",
    "print(\"Transactions train dataset: \", len(X_train))\n",
    "print(\"Transactions test dataset: \", len(X_test))\n",
    "print(\"Total transactions: \", len(X_train)+len(X_test))"
   ]
  },
  {
   "cell_type": "code",
   "execution_count": 25,
   "metadata": {},
   "outputs": [
    {
     "name": "stdout",
     "output_type": "stream",
     "text": [
      "Accuracy of logistic regression classifier on test set: 0.95\n"
     ]
    }
   ],
   "source": [
    "logreg = LogisticRegression()\n",
    "logreg.fit(X_train, y_train)\n",
    "\n",
    "y_pred = logreg.predict(X_test)\n",
    "print('Accuracy of logistic regression classifier on test set: {:.2f}'.format(logreg.score(X_test, y_test)))"
   ]
  },
  {
   "cell_type": "code",
   "execution_count": 26,
   "metadata": {},
   "outputs": [
    {
     "name": "stdout",
     "output_type": "stream",
     "text": [
      "[[143   5]\n",
      " [ 11 137]]\n"
     ]
    }
   ],
   "source": [
    "from sklearn.metrics import confusion_matrix\n",
    "confusion_matrix = confusion_matrix(y_test, y_pred)\n",
    "print(confusion_matrix)"
   ]
  },
  {
   "cell_type": "code",
   "execution_count": 140,
   "metadata": {},
   "outputs": [
    {
     "name": "stdout",
     "output_type": "stream",
     "text": [
      "             precision    recall  f1-score   support\n",
      "\n",
      "      False       0.92      0.96      0.94       160\n",
      "       True       0.95      0.90      0.92       136\n",
      "\n",
      "avg / total       0.93      0.93      0.93       296\n",
      "\n"
     ]
    }
   ],
   "source": [
    "print(classification_report(y_test, y_pred))"
   ]
  },
  {
   "cell_type": "code",
   "execution_count": 27,
   "metadata": {},
   "outputs": [
    {
     "name": "stdout",
     "output_type": "stream",
     "text": [
      "Accuracy of logistic regression classifier on test set: 0.96\n"
     ]
    }
   ],
   "source": [
    "#try to predicting using the data from d3\n",
    "y3_pred = logreg.predict(X3_test)\n",
    "print('Accuracy of logistic regression classifier on test set: {:.2f}'.format(logreg.score(X3_test, y3_test)))"
   ]
  },
  {
   "cell_type": "code",
   "execution_count": 28,
   "metadata": {},
   "outputs": [
    {
     "name": "stdout",
     "output_type": "stream",
     "text": [
      "[[1304   47]\n",
      " [  13  136]]\n",
      "             precision    recall  f1-score   support\n",
      "\n",
      "      False       0.99      0.97      0.98      1351\n",
      "       True       0.74      0.91      0.82       149\n",
      "\n",
      "avg / total       0.97      0.96      0.96      1500\n",
      "\n"
     ]
    }
   ],
   "source": [
    "from sklearn.metrics import confusion_matrix\n",
    "#Look at confusion matrix\n",
    "confusionmatrix = confusion_matrix(y3_test, y3_pred)\n",
    "print(confusionmatrix)\n",
    "print(classification_report(y3_test, y3_pred))"
   ]
  },
  {
   "cell_type": "code",
   "execution_count": 29,
   "metadata": {},
   "outputs": [
    {
     "data": {
      "text/plain": [
       "Text(0.5,257.44,'Predicted label')"
      ]
     },
     "execution_count": 29,
     "metadata": {},
     "output_type": "execute_result"
    },
    {
     "data": {
      "image/png": "[encoded data removed]",
      "text/plain": [
       "<Figure size 432x288 with 2 Axes>"
      ]
     },
     "metadata": {},
     "output_type": "display_data"
    }
   ],
   "source": [
    "#Make presentable confusion matrix\n",
    "classes=['False','True'] \n",
    "fig, ax = plt.subplots()\n",
    "tick_marks = np.arange(len(classes))\n",
    "plt.xticks(tick_marks, classes)\n",
    "plt.yticks(tick_marks, classes)\n",
    "sns.heatmap(pd.DataFrame(confusionmatrix), annot=True ,fmt='g')\n",
    "ax.xaxis.set_label_position(\"top\")\n",
    "plt.tight_layout()\n",
    "plt.title('Confusion matrix', y=1.1)\n",
    "plt.ylabel('Actual label')\n",
    "plt.xlabel('Predicted label')"
   ]
  },
  {
   "cell_type": "markdown",
   "metadata": {},
   "source": [
    "# Sources"
   ]
  },
  {
   "cell_type": "markdown",
   "metadata": {},
   "source": [
    " - https://towardsdatascience.com/machine-learning-workflow-on-diabetes-data-part-02-11262b7f7a5c"
   ]
  },
  {
   "cell_type": "code",
   "execution_count": null,
   "metadata": {},
   "outputs": [],
   "source": []
  }
 ],
 "metadata": {
  "kernelspec": {
   "display_name": "Python 3",
   "language": "python",
   "name": "python3"
  },
  "language_info": {
   "codemirror_mode": {
    "name": "ipython",
    "version": 3
   },
   "file_extension": ".py",
   "mimetype": "text/x-python",
   "name": "python",
   "nbconvert_exporter": "python",
   "pygments_lexer": "ipython3",
   "version": "3.6.5"
  }
 },
 "nbformat": 4,
 "nbformat_minor": 2
}
