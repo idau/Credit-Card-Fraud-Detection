{
 "cells": [
  {
   "cell_type": "markdown",
   "metadata": {},
   "source": [
    "# Model 2: With undersampling "
   ]
  },
  {
   "cell_type": "markdown",
   "metadata": {},
   "source": [
    "Note: The code has been executed after the presentation was made, numbers may thus vary from presentation material."
   ]
  },
  {
   "cell_type": "code",
   "execution_count": 1,
   "metadata": {},
   "outputs": [
    {
     "name": "stderr",
     "output_type": "stream",
     "text": [
      "C:\\Anaconda3\\lib\\site-packages\\sklearn\\cross_validation.py:41: DeprecationWarning: This module was deprecated in version 0.18 in favor of the model_selection module into which all the refactored classes and functions are moved. Also note that the interface of the new CV iterators are different from that of this module. This module will be removed in 0.20.\n",
      "  \"This module will be removed in 0.20.\", DeprecationWarning)\n"
     ]
    }
   ],
   "source": [
    "# import libraries\n",
    "import pandas as pd\n",
    "import numpy as np \n",
    "import random\n",
    "import matplotlib.pyplot as plt\n",
    "import seaborn as sns\n",
    "import statsmodels.api as sm\n",
    "from sklearn.preprocessing import StandardScaler\n",
    "from sklearn.linear_model import LogisticRegression\n",
    "from sklearn.cross_validation import train_test_split\n",
    "from sklearn import metrics\n",
    "from sklearn.metrics import confusion_matrix, classification_report"
   ]
  },
  {
   "cell_type": "code",
   "execution_count": 2,
   "metadata": {},
   "outputs": [],
   "source": [
    "#import data \n",
    "dfall = pd.read_csv('CreditCardFraud_AllData.csv')\n",
    "df3 = pd.read_csv('CreditCardFraud_3.csv')"
   ]
  },
  {
   "cell_type": "code",
   "execution_count": 3,
   "metadata": {},
   "outputs": [
    {
     "name": "stderr",
     "output_type": "stream",
     "text": [
      "C:\\Anaconda3\\lib\\site-packages\\sklearn\\utils\\validation.py:475: DataConversionWarning: Data with input dtype int64 was converted to float64 by StandardScaler.\n",
      "  warnings.warn(msg, DataConversionWarning)\n",
      "C:\\Anaconda3\\lib\\site-packages\\sklearn\\utils\\validation.py:475: DataConversionWarning: Data with input dtype int64 was converted to float64 by StandardScaler.\n",
      "  warnings.warn(msg, DataConversionWarning)\n"
     ]
    }
   ],
   "source": [
    "# Transform the data in the columns Time and Amount \n",
    "std_scaler = StandardScaler()\n",
    "\n",
    "dfall['scaled_amount'] = std_scaler.fit_transform(dfall['Amount'].values.reshape(-1,1))\n",
    "dfall['scaled_time'] = std_scaler.fit_transform(dfall['Time'].values.reshape(-1,1))\n",
    "dfall.drop(['Time','Amount'], axis=1, inplace=True)\n",
    "\n",
    "df3['scaled_amount'] = std_scaler.fit_transform(df3['Amount'].values.reshape(-1,1))\n",
    "df3['scaled_time'] = std_scaler.fit_transform(df3['Time'].values.reshape(-1,1))\n",
    "df3.drop(['Time','Amount'], axis=1, inplace=True)"
   ]
  },
  {
   "cell_type": "markdown",
   "metadata": {},
   "source": [
    "# Create undersampled dataset"
   ]
  },
  {
   "cell_type": "code",
   "execution_count": 4,
   "metadata": {},
   "outputs": [
    {
     "name": "stdout",
     "output_type": "stream",
     "text": [
      "Proportion of non-fraud transactions:  0.5\n",
      "Proportion of fraud transactions:  0.5\n",
      "Total number of transactions in undersampled data:  984\n"
     ]
    }
   ],
   "source": [
    "random.seed(20)\n",
    "#Create an undersampled version of the dataset to use to build the model\n",
    "\n",
    "# Count number of data points in the minority class\n",
    "fraud_count = len(df3[df3['Is.Fraud'] == 1])\n",
    "\n",
    "# Create separate arrays for the different cases (fraud / not fraud)\n",
    "fraud_trans = np.array(df3[df3['Is.Fraud'] == 1].index)\n",
    "normal_trans = df3[df3['Is.Fraud'] == 0].index\n",
    "\n",
    "# Out of the normal transactions, select \"fraud_count\" number of transactions randomly\n",
    "random_normal_trans = np.random.choice(normal_trans, fraud_count, replace = False)\n",
    "random_normal_trans = np.array(random_normal_trans)\n",
    "\n",
    "# Combining the normal and fraud transaction\n",
    "under_sample_trans = np.concatenate([fraud_trans,random_normal_trans])\n",
    "\n",
    "# Create the undersampled dataset\n",
    "under_sample_data = df3.iloc[under_sample_trans,:]\n",
    "\n",
    "X_undersample = under_sample_data.iloc[:, under_sample_data.columns != 'Is.Fraud']\n",
    "y_undersample = under_sample_data.iloc[:, under_sample_data.columns == 'Is.Fraud']\n",
    "\n",
    "# Print result\n",
    "print(\"Proportion of non-fraud transactions: \", len(under_sample_data[under_sample_data['Is.Fraud'] == 0])/len(under_sample_data))\n",
    "print(\"Proportion of fraud transactions: \", len(under_sample_data[under_sample_data['Is.Fraud'] == 1])/len(under_sample_data))\n",
    "print(\"Total number of transactions in undersampled data: \", len(under_sample_data))"
   ]
  },
  {
   "cell_type": "code",
   "execution_count": 5,
   "metadata": {},
   "outputs": [
    {
     "name": "stdout",
     "output_type": "stream",
     "text": [
      "      Is.Fraud        V1        V2        V3        V4        V5        V6  \\\n",
      "4989      True -7.503926 -0.360628 -3.830952  2.486103  2.497367  1.332437   \n",
      "3644     False  1.835749  0.095032 -0.145201  3.533239  0.152116  1.221709   \n",
      "4996      True  1.378559  1.289381 -5.004247  1.411850  0.442581 -1.326536   \n",
      "4765      True -1.410852  2.268271 -2.297554  1.871331  0.248957 -1.208799   \n",
      "3486     False  2.115689 -0.628392 -1.277827 -0.831985 -0.460271 -0.696340   \n",
      "\n",
      "            V7         V8        V9     ...            V21       V22  \\\n",
      "4989 -6.783964 -15.415385  0.465512     ...      -6.389132  2.249964   \n",
      "3644 -0.715531   0.432291 -0.431166     ...       0.277294  0.747301   \n",
      "4996 -1.413170   0.248525 -1.127396     ...       0.370612  0.028234   \n",
      "4765 -1.358648   1.102916 -1.317364     ...       0.155381 -0.614880   \n",
      "3486 -0.645321  -0.059615 -0.465363     ...      -0.297317 -0.927760   \n",
      "\n",
      "           V23       V24       V25       V26       V27       V28  \\\n",
      "4989  1.670508  0.140450  0.162147  1.207731  1.268958  0.097538   \n",
      "3644  0.114157  0.176989 -0.179274  0.083882 -0.004445 -0.041020   \n",
      "4996 -0.145640 -0.081049  0.521875  0.739467  0.389152  0.186637   \n",
      "4765 -0.196126 -0.464376  0.118473 -0.484537  0.373596  0.187657   \n",
      "3486  0.399165 -0.583684 -0.539141 -0.668866  0.002747 -0.029139   \n",
      "\n",
      "      scaled_amount  scaled_time  \n",
      "4989      -0.350105     1.503144  \n",
      "3644      -0.314586     1.112557  \n",
      "4996      -0.403801     1.591957  \n",
      "4765      -0.402686    -0.350023  \n",
      "3486      -0.291154     1.018518  \n",
      "\n",
      "[5 rows x 31 columns]\n"
     ]
    }
   ],
   "source": [
    "from sklearn.utils import shuffle\n",
    "\n",
    "#shuffle data\n",
    "under_sample_data = shuffle(under_sample_data)\n",
    "print(under_sample_data.head())"
   ]
  },
  {
   "cell_type": "code",
   "execution_count": 6,
   "metadata": {},
   "outputs": [
    {
     "name": "stdout",
     "output_type": "stream",
     "text": [
      "True     492\n",
      "False    492\n",
      "Name: Is.Fraud, dtype: int64\n"
     ]
    },
    {
     "data": {
      "text/plain": [
       "<matplotlib.axes._subplots.AxesSubplot at 0xb4fa4a8>"
      ]
     },
     "execution_count": 6,
     "metadata": {},
     "output_type": "execute_result"
    },
    {
     "data": {
      "image/png": "[encoded data removed]",
      "text/plain": [
       "<Figure size 432x288 with 1 Axes>"
      ]
     },
     "metadata": {},
     "output_type": "display_data"
    }
   ],
   "source": [
    "#count how many are of each class in the undersampled dataframe: Fraud or not fraud\n",
    "fraud_class = under_sample_data['Is.Fraud'].value_counts()\n",
    "print(fraud_class)\n",
    "sns.countplot(x='Is.Fraud',data=under_sample_data, palette='hls')"
   ]
  },
  {
   "cell_type": "code",
   "execution_count": 7,
   "metadata": {},
   "outputs": [
    {
     "data": {
      "text/plain": [
       "<matplotlib.axes._subplots.AxesSubplot at 0xb591ac8>"
      ]
     },
     "execution_count": 7,
     "metadata": {},
     "output_type": "execute_result"
    },
    {
     "data": {
      "image/png": "[encoded data removed]",
      "text/plain": [
       "<Figure size 576x576 with 2 Axes>"
      ]
     },
     "metadata": {},
     "output_type": "display_data"
    }
   ],
   "source": [
    "correlation = under_sample_data.corr()\n",
    "f , ax = plt.subplots(figsize = (8,8)) \n",
    "plt.title('Correlation Heatmap',y=1,size=16) \n",
    "sns.heatmap(correlation, square = True, vmax=0.6)"
   ]
  },
  {
   "cell_type": "code",
   "execution_count": 8,
   "metadata": {},
   "outputs": [
    {
     "name": "stdout",
     "output_type": "stream",
     "text": [
      "There is 9 values which are notably correlated with Is.Fraud:\n",
      "V4     0.708998\n",
      "V11    0.681027\n",
      "V9    -0.549836\n",
      "V17   -0.558898\n",
      "V3    -0.568032\n",
      "V16   -0.596368\n",
      "V10   -0.624206\n",
      "V12   -0.683462\n",
      "V14   -0.752386\n",
      "Name: Is.Fraud, dtype: float64\n"
     ]
    }
   ],
   "source": [
    "#want to find the features which have the strongest correlation with fraud\n",
    "correlation = under_sample_data.corr()['Is.Fraud'][1:]\n",
    "\n",
    "#Make a list of the features which have a correlation with absolute value larger than 0.5 to list out\n",
    "features_list = correlation[abs(correlation) > 0.5].sort_values(ascending=False)\n",
    "print(\"There is {} values which are notably correlated with Is.Fraud:\\n{}\".format(len(features_list), features_list))"
   ]
  },
  {
   "cell_type": "code",
   "execution_count": 9,
   "metadata": {},
   "outputs": [
    {
     "name": "stdout",
     "output_type": "stream",
     "text": [
      "Optimization terminated successfully.\n",
      "         Current function value: 0.379722\n",
      "         Iterations 12\n",
      "                           Logit Regression Results                           \n",
      "==============================================================================\n",
      "Dep. Variable:               Is.Fraud   No. Observations:                  984\n",
      "Model:                          Logit   Df Residuals:                      975\n",
      "Method:                           MLE   Df Model:                            8\n",
      "Date:                Tue, 15 Jan 2019   Pseudo R-squ.:                  0.4522\n",
      "Time:                        12:51:07   Log-Likelihood:                -373.65\n",
      "converged:                       True   LL-Null:                       -682.06\n",
      "                                        LLR p-value:                5.656e-128\n",
      "==============================================================================\n",
      "                 coef    std err          z      P>|z|      [0.025      0.975]\n",
      "------------------------------------------------------------------------------\n",
      "V3            -0.1718      0.065     -2.626      0.009      -0.300      -0.044\n",
      "V4             0.2255      0.061      3.716      0.000       0.107       0.344\n",
      "V9             0.0404      0.090      0.450      0.653      -0.136       0.217\n",
      "V10           -0.1085      0.106     -1.024      0.306      -0.316       0.099\n",
      "V11            0.1135      0.095      1.194      0.232      -0.073       0.300\n",
      "V12           -0.3681      0.111     -3.327      0.001      -0.585      -0.151\n",
      "V14           -0.5881      0.115     -5.136      0.000      -0.813      -0.364\n",
      "V16           -0.2130      0.124     -1.716      0.086      -0.456       0.030\n",
      "V17           -0.2234      0.150     -1.487      0.137      -0.518       0.071\n",
      "==============================================================================\n",
      "\n",
      "Possibly complete quasi-separation: A fraction 0.29 of observations can be\n",
      "perfectly predicted. This might indicate that there is complete\n",
      "quasi-separation. In this case some parameters will not be identified.\n"
     ]
    }
   ],
   "source": [
    "# Choose the columns we want to use to predict fraud with using correlation\n",
    "names = ['Is.Fraud','V3', 'V4','V9', 'V10','V11', 'V12', 'V14','V16','V17']\n",
    "train_cols = names[1:]\n",
    "\n",
    "# Use the logit function as we are doing logistic regression\n",
    "logit = sm.Logit(under_sample_data['Is.Fraud'], under_sample_data[train_cols]) # We fit the model\n",
    "result = logit.fit()\n",
    "print(result.summary())"
   ]
  },
  {
   "cell_type": "code",
   "execution_count": 11,
   "metadata": {},
   "outputs": [],
   "source": [
    "X3 = df3.iloc[:, df3.columns != 'Is.Fraud']\n",
    "y3 = df3.iloc[:, df3.columns == 'Is.Fraud']\n",
    "\n",
    "# Split subset 3 into test and train sets\n",
    "X3_train, X3_test, y3_train, y3_test = train_test_split(df3[train_cols],df3['Is.Fraud'],test_size = 0.3, random_state = 0)\n",
    "\n",
    "\n",
    "# Split undersampled dataset into test and train sets\n",
    "X_train, X_test, y_train, y_test = train_test_split(under_sample_data[train_cols],under_sample_data['Is.Fraud'],test_size = 0.3, random_state = 0)"
   ]
  },
  {
   "cell_type": "code",
   "execution_count": 12,
   "metadata": {},
   "outputs": [
    {
     "name": "stdout",
     "output_type": "stream",
     "text": [
      "         V3        V4        V9       V10       V11       V12       V14  \\\n",
      "0  0.924591 -0.727219 -0.665271 -0.737980  0.324098  0.277192 -0.291896   \n",
      "1  1.146088  0.656290 -0.523849  0.690440  1.160793  0.831569 -0.018098   \n",
      "2 -0.268073  0.125245 -0.230000  0.295110 -0.596572 -0.118181  0.063381   \n",
      "3  1.230334  2.554474  0.307571  0.475235 -1.410625 -0.508594 -0.199105   \n",
      "4  2.528964  0.648279  0.435493 -0.308060 -0.678178 -0.219642 -0.383811   \n",
      "\n",
      "        V16       V17  \n",
      "0  1.143174 -0.928709  \n",
      "1 -0.180816 -0.749369  \n",
      "2 -0.608157 -0.159370  \n",
      "3  0.541796 -0.274024  \n",
      "4 -0.471960  0.419925  \n",
      "            V3        V4        V9       V10       V11       V12       V14  \\\n",
      "4989 -3.830952  2.486103  0.465512 -0.394381  1.054107  0.974059 -1.425620   \n",
      "3644 -0.145201  3.533239 -0.431166  1.587057 -0.205359 -0.310894  0.186180   \n",
      "4996 -5.004247  1.411850 -1.127396 -3.232153  2.858466 -3.096915 -5.210141   \n",
      "4765 -2.297554  1.871331 -1.317364 -4.626919  3.357640 -2.998815 -6.766633   \n",
      "3486 -1.277827 -0.831985 -0.465363  0.377727  1.157395  0.008784 -1.288100   \n",
      "\n",
      "           V16       V17  \n",
      "4989  0.836808  2.844950  \n",
      "3644  1.595645 -1.302930  \n",
      "4996 -2.155297 -3.267116  \n",
      "4765 -0.868577 -0.370333  \n",
      "3486  1.693912  0.867127  \n"
     ]
    }
   ],
   "source": [
    "print(df3[train_cols].head())\n",
    "print(under_sample_data[train_cols].head())"
   ]
  },
  {
   "cell_type": "code",
   "execution_count": 13,
   "metadata": {},
   "outputs": [
    {
     "name": "stdout",
     "output_type": "stream",
     "text": [
      "Accuracy of logistic regression classifier on test set: 0.96\n"
     ]
    }
   ],
   "source": [
    "#we fit and predict a model on the undersampled data first\n",
    "logreg = LogisticRegression()\n",
    "logreg.fit(X_train, y_train)\n",
    "y_pred = logreg.predict(X_test)\n",
    "print('Accuracy of logistic regression classifier on test set: {:.2f}'.format(logreg.score(X_test, y_test)))"
   ]
  },
  {
   "cell_type": "code",
   "execution_count": 14,
   "metadata": {},
   "outputs": [
    {
     "name": "stdout",
     "output_type": "stream",
     "text": [
      "[[157   9]\n",
      " [  4 126]]\n"
     ]
    }
   ],
   "source": [
    "from sklearn.metrics import confusion_matrix\n",
    "#Look at confusion matrix\n",
    "confusionmatrix = confusion_matrix(y_test, y_pred)\n",
    "print(confusionmatrix)"
   ]
  },
  {
   "cell_type": "code",
   "execution_count": 15,
   "metadata": {},
   "outputs": [
    {
     "data": {
      "text/plain": [
       "Text(0.5,257.44,'Predicted label')"
      ]
     },
     "execution_count": 15,
     "metadata": {},
     "output_type": "execute_result"
    },
    {
     "data": {
      "image/png": "[encoded data removed]",
      "text/plain": [
       "<Figure size 432x288 with 2 Axes>"
      ]
     },
     "metadata": {},
     "output_type": "display_data"
    }
   ],
   "source": [
    "#Make presentable confusion matrix\n",
    "classes=['False','True'] \n",
    "fig, ax = plt.subplots()\n",
    "tick_marks = np.arange(len(classes))\n",
    "plt.xticks(tick_marks, classes)\n",
    "plt.yticks(tick_marks, classes)\n",
    "sns.heatmap(pd.DataFrame(confusionmatrix), annot=True ,fmt='g')\n",
    "ax.xaxis.set_label_position(\"top\")\n",
    "plt.tight_layout()\n",
    "plt.title('Confusion matrix', y=1.1)\n",
    "plt.ylabel('Actual label')\n",
    "plt.xlabel('Predicted label')"
   ]
  },
  {
   "cell_type": "code",
   "execution_count": 16,
   "metadata": {},
   "outputs": [
    {
     "name": "stdout",
     "output_type": "stream",
     "text": [
      "             precision    recall  f1-score   support\n",
      "\n",
      "      False       0.98      0.95      0.96       166\n",
      "       True       0.93      0.97      0.95       130\n",
      "\n",
      "avg / total       0.96      0.96      0.96       296\n",
      "\n"
     ]
    }
   ],
   "source": [
    "print(classification_report(y_test, y_pred))"
   ]
  },
  {
   "cell_type": "code",
   "execution_count": 17,
   "metadata": {},
   "outputs": [
    {
     "name": "stdout",
     "output_type": "stream",
     "text": [
      "Accuracy of logistic regression classifier on test set: 0.96\n"
     ]
    }
   ],
   "source": [
    "#try to predicting using the data from d3\n",
    "y3_pred = logreg.predict(X3_test)\n",
    "print('Accuracy of logistic regression classifier on test set: {:.2f}'.format(logreg.score(X3_test, y3_test)))"
   ]
  },
  {
   "cell_type": "code",
   "execution_count": 18,
   "metadata": {},
   "outputs": [
    {
     "name": "stdout",
     "output_type": "stream",
     "text": [
      "[[1311   40]\n",
      " [  14  135]]\n",
      "             precision    recall  f1-score   support\n",
      "\n",
      "      False       0.99      0.97      0.98      1351\n",
      "       True       0.77      0.91      0.83       149\n",
      "\n",
      "avg / total       0.97      0.96      0.97      1500\n",
      "\n"
     ]
    }
   ],
   "source": [
    "from sklearn.metrics import confusion_matrix\n",
    "#Look at confusion matrix\n",
    "confusionmatrix = confusion_matrix(y3_test, y3_pred)\n",
    "print(confusionmatrix)\n",
    "print(classification_report(y3_test, y3_pred))"
   ]
  },
  {
   "cell_type": "code",
   "execution_count": 20,
   "metadata": {},
   "outputs": [
    {
     "data": {
      "text/plain": [
       "Text(0.5,257.44,'Predicted label')"
      ]
     },
     "execution_count": 20,
     "metadata": {},
     "output_type": "execute_result"
    },
    {
     "data": {
      "image/png": "[encoded data removed]",
      "text/plain": [
       "<Figure size 432x288 with 2 Axes>"
      ]
     },
     "metadata": {},
     "output_type": "display_data"
    }
   ],
   "source": [
    "#Make presentable confusion matrix\n",
    "classes=['False','True'] \n",
    "fig, ax = plt.subplots()\n",
    "ticks = np.arange(len(classes))\n",
    "plt.xticks(ticks, classes)\n",
    "plt.yticks(ticks, classes)\n",
    "sns.heatmap(pd.DataFrame(confusionmatrix), annot=True ,fmt='g')\n",
    "ax.xaxis.set_label_position(\"top\")\n",
    "plt.tight_layout()\n",
    "plt.title('Confusion matrix', y=1.1)\n",
    "plt.ylabel('Actual label')\n",
    "plt.xlabel('Predicted label')"
   ]
  },
  {
   "cell_type": "markdown",
   "metadata": {},
   "source": [
    "# Model 3: Feature selection"
   ]
  },
  {
   "cell_type": "code",
   "execution_count": 21,
   "metadata": {},
   "outputs": [],
   "source": [
    "from sklearn.feature_selection import RFE\n",
    "from sklearn.linear_model import LinearRegression, Lasso, RandomizedLasso\n",
    "from sklearn.model_selection import StratifiedKFold\n",
    "from sklearn.feature_selection import RFECV"
   ]
  },
  {
   "cell_type": "code",
   "execution_count": 22,
   "metadata": {},
   "outputs": [
    {
     "name": "stdout",
     "output_type": "stream",
     "text": [
      "[False  True False  True False False False False  True  True False  True\n",
      " False  True False False False False False  True False False False False\n",
      " False  True False  True False False]\n",
      "[16  1 10  1 14 18 13  2  1  1  4  1  8  1 15  5  6  7 11  1 20  3  9 22\n",
      " 21  1 19  1 17 12]\n",
      "Selected features: ['V2', 'V4', 'V9', 'V10', 'V12', 'V14', 'V20', 'V26', 'V28']\n"
     ]
    }
   ],
   "source": [
    "logreg = LogisticRegression()\n",
    "\n",
    "#specify that we want 9 features to compare with our own selection above\n",
    "rfe = RFE(logreg, 9)\n",
    "rfe = rfe.fit(X_undersample, y_undersample.values.ravel())\n",
    "print(rfe.support_)\n",
    "print(rfe.ranking_)\n",
    "print('Selected features: %s' % list(X_undersample.columns[rfe.support_]))"
   ]
  },
  {
   "cell_type": "code",
   "execution_count": 28,
   "metadata": {},
   "outputs": [
    {
     "name": "stdout",
     "output_type": "stream",
     "text": [
      "Optimization terminated successfully.\n",
      "         Current function value: 0.382272\n",
      "         Iterations 10\n",
      "                           Logit Regression Results                           \n",
      "==============================================================================\n",
      "Dep. Variable:               Is.Fraud   No. Observations:                  984\n",
      "Model:                          Logit   Df Residuals:                      975\n",
      "Method:                           MLE   Df Model:                            8\n",
      "Date:                Tue, 15 Jan 2019   Pseudo R-squ.:                  0.4485\n",
      "Time:                        12:55:27   Log-Likelihood:                -376.16\n",
      "converged:                       True   LL-Null:                       -682.06\n",
      "                                        LLR p-value:                6.784e-127\n",
      "==============================================================================\n",
      "                 coef    std err          z      P>|z|      [0.025      0.975]\n",
      "------------------------------------------------------------------------------\n",
      "V2            -0.0730      0.062     -1.182      0.237      -0.194       0.048\n",
      "V4             0.2435      0.059      4.140      0.000       0.128       0.359\n",
      "V9             0.0095      0.084      0.114      0.910      -0.155       0.174\n",
      "V10           -0.1364      0.084     -1.629      0.103      -0.301       0.028\n",
      "V12           -0.3120      0.084     -3.693      0.000      -0.478      -0.146\n",
      "V14           -0.5291      0.086     -6.179      0.000      -0.697      -0.361\n",
      "V20           -0.3605      0.138     -2.616      0.009      -0.631      -0.090\n",
      "V26           -0.0635      0.182     -0.348      0.728      -0.421       0.294\n",
      "V28            0.2663      0.415      0.642      0.521      -0.547       1.080\n",
      "==============================================================================\n",
      "\n",
      "Possibly complete quasi-separation: A fraction 0.14 of observations can be\n",
      "perfectly predicted. This might indicate that there is complete\n",
      "quasi-separation. In this case some parameters will not be identified.\n"
     ]
    }
   ],
   "source": [
    "#select the features from the rfe to build model\n",
    "names = ['Is.Fraud','V2', 'V4', 'V9', 'V10', 'V12', 'V14', 'V20', 'V26', 'V28']\n",
    "train_cols3 = names[1:]\n",
    "\n",
    "#We use the logit function as we are doing logistic regression\n",
    "logit = sm.Logit(under_sample_data['Is.Fraud'], under_sample_data[train_cols3]) # We fit the model\n",
    "result = logit.fit()\n",
    "print(result.summary())"
   ]
  },
  {
   "cell_type": "code",
   "execution_count": 29,
   "metadata": {},
   "outputs": [
    {
     "name": "stdout",
     "output_type": "stream",
     "text": [
      "Transactions train dataset:  688\n",
      "Transactions test dataset:  296\n",
      "Total transactions:  984\n"
     ]
    }
   ],
   "source": [
    "# Split subset 3 into test and train sets\n",
    "X3_train, X3_test, y3_train, y3_test = train_test_split(df3[train_cols3],df3['Is.Fraud'],test_size = 0.3, random_state = 0)\n",
    "\n",
    "# Split undersampled dataset into test and train sets\n",
    "X_train, X_test, y_train, y_test = train_test_split(under_sample_data[train_cols3],under_sample_data['Is.Fraud'],test_size = 0.3, random_state = 0)\n",
    "\n",
    "print(\"Transactions train dataset: \", len(X_train))\n",
    "print(\"Transactions test dataset: \", len(X_test))\n",
    "print(\"Total transactions: \", len(X_train)+len(X_test))"
   ]
  },
  {
   "cell_type": "code",
   "execution_count": 30,
   "metadata": {},
   "outputs": [
    {
     "name": "stdout",
     "output_type": "stream",
     "text": [
      "Accuracy of logistic regression classifier on test set: 0.96\n"
     ]
    }
   ],
   "source": [
    "logreg = LogisticRegression()\n",
    "logreg.fit(X_train, y_train)\n",
    "\n",
    "y_pred = logreg.predict(X_test)\n",
    "print('Accuracy of logistic regression classifier on test set: {:.2f}'.format(logreg.score(X_test, y_test)))"
   ]
  },
  {
   "cell_type": "code",
   "execution_count": 32,
   "metadata": {},
   "outputs": [
    {
     "name": "stdout",
     "output_type": "stream",
     "text": [
      "[[159   7]\n",
      " [  6 124]]\n"
     ]
    }
   ],
   "source": [
    "from sklearn.metrics import confusion_matrix\n",
    "confusion_matrix = confusion_matrix(y_test, y_pred)\n",
    "print(confusion_matrix)"
   ]
  },
  {
   "cell_type": "code",
   "execution_count": 33,
   "metadata": {},
   "outputs": [
    {
     "name": "stdout",
     "output_type": "stream",
     "text": [
      "             precision    recall  f1-score   support\n",
      "\n",
      "      False       0.96      0.96      0.96       166\n",
      "       True       0.95      0.95      0.95       130\n",
      "\n",
      "avg / total       0.96      0.96      0.96       296\n",
      "\n"
     ]
    }
   ],
   "source": [
    "print(classification_report(y_test, y_pred))"
   ]
  },
  {
   "cell_type": "code",
   "execution_count": 34,
   "metadata": {},
   "outputs": [
    {
     "name": "stdout",
     "output_type": "stream",
     "text": [
      "Accuracy: 0.95\n"
     ]
    }
   ],
   "source": [
    "#try to predicting using the data from d3\n",
    "y3_pred = logreg.predict(X3_test)\n",
    "print('Accuracy: {:.2f}'.format(logreg.score(X3_test, y3_test)))"
   ]
  },
  {
   "cell_type": "code",
   "execution_count": 35,
   "metadata": {},
   "outputs": [
    {
     "name": "stdout",
     "output_type": "stream",
     "text": [
      "[[1290   61]\n",
      " [  14  135]]\n",
      "             precision    recall  f1-score   support\n",
      "\n",
      "      False       0.99      0.95      0.97      1351\n",
      "       True       0.69      0.91      0.78       149\n",
      "\n",
      "avg / total       0.96      0.95      0.95      1500\n",
      "\n"
     ]
    }
   ],
   "source": [
    "from sklearn.metrics import confusion_matrix\n",
    "#Look at confusion matrix and metrics\n",
    "confusionmatrix = confusion_matrix(y3_test, y3_pred)\n",
    "print(confusionmatrix)\n",
    "print(classification_report(y3_test, y3_pred))"
   ]
  },
  {
   "cell_type": "code",
   "execution_count": 36,
   "metadata": {},
   "outputs": [
    {
     "data": {
      "text/plain": [
       "Text(0.5,257.44,'Predicted label')"
      ]
     },
     "execution_count": 36,
     "metadata": {},
     "output_type": "execute_result"
    },
    {
     "data": {
      "image/png": "[encoded data removed]",
      "text/plain": [
       "<Figure size 432x288 with 2 Axes>"
      ]
     },
     "metadata": {},
     "output_type": "display_data"
    }
   ],
   "source": [
    "#Make presentable confusion matrix\n",
    "classes=['False','True'] \n",
    "fig, ax = plt.subplots()\n",
    "tick_marks = np.arange(len(classes))\n",
    "plt.xticks(tick_marks, classes)\n",
    "plt.yticks(tick_marks, classes)\n",
    "sns.heatmap(pd.DataFrame(confusionmatrix), annot=True ,fmt='g')\n",
    "ax.xaxis.set_label_position(\"top\")\n",
    "plt.tight_layout()\n",
    "plt.title('Confusion matrix', y=1.1)\n",
    "plt.ylabel('Actual label')\n",
    "plt.xlabel('Predicted label')"
   ]
  }
 ],
 "metadata": {
  "kernelspec": {
   "display_name": "Python 3",
   "language": "python",
   "name": "python3"
  },
  "language_info": {
   "codemirror_mode": {
    "name": "ipython",
    "version": 3
   },
   "file_extension": ".py",
   "mimetype": "text/x-python",
   "name": "python",
   "nbconvert_exporter": "python",
   "pygments_lexer": "ipython3",
   "version": "3.6.5"
  }
 },
 "nbformat": 4,
 "nbformat_minor": 2
}
